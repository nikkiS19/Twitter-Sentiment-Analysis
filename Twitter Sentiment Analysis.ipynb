{
 "cells": [
  {
   "cell_type": "code",
   "execution_count": 3,
   "metadata": {},
   "outputs": [],
   "source": [
    "from tweepy.streaming import StreamListener\n",
    "from tweepy import OAuthHandler\n",
    "from tweepy import Stream\n",
    "import tweepy\n",
    "import pandas as pd\n",
    "import matplotlib.pyplot as plt\n",
    "from matplotlib import style\n",
    "style.use('ggplot')"
   ]
  },
  {
   "cell_type": "code",
   "execution_count": 4,
   "metadata": {},
   "outputs": [],
   "source": [
    "access_token=\"2945289565-wRN9KXAVXe1B79dHB8Hlr2gtObWSi0shPh2bQ3L\"\n",
    "access_token_secret=\"n4qoueWhjt8bpcstB9GnzyL4kB3mA31xi3FhFtWfx4ug9\"\n",
    "consumer_key=\"29LdhaAyfobKT0J2T3rFUEvFk\"\n",
    "consumer_secret=\"h82EHiAGzVlZJ7goHnJWuG6LG2m6GeormqacrADqDtuefCp5xs\""
   ]
  },
  {
   "cell_type": "code",
   "execution_count": 9,
   "metadata": {},
   "outputs": [],
   "source": [
    "#Basic Listener to print incoming tweets\n",
    "class StdOutListener(StreamListener):#this class is extending StreamListener class\n",
    "    def on_data(self,data): #this method passes data to from statues to on_status method \n",
    "        print(data)\n",
    "        return True\n",
    "    def on_error(self,status): #passes error codes to an on_error \n",
    "        print(status)\n",
    "        "
   ]
  },
  {
   "cell_type": "code",
   "execution_count": 43,
   "metadata": {},
   "outputs": [
    {
     "name": "stdout",
     "output_type": "stream",
     "text": [
      "<class 'tweepy.streaming.StreamListener'>\n"
     ]
    }
   ],
   "source": [
    "#Handles Twitter Auth and Connection to Twitter A/C\n",
    "print(StreamListener)\n",
    "l = StdOutListener()\n",
    "auth = OAuthHandler(consumer_key, consumer_secret)\n",
    "auth.set_access_token(access_token,access_token_secret)\n",
    "#stream = Stream(auth,l)\n",
    "api = tweepy.API(auth)"
   ]
  },
  {
   "cell_type": "code",
   "execution_count": 44,
   "metadata": {},
   "outputs": [],
   "source": [
    "tweets = api.user_timeline(screen_name = 'realDonaldTrump' , count = 20,tweet_mode=\"extended\") #'extended' is for long tweets\n",
    "#print(tweets)"
   ]
  },
  {
   "cell_type": "code",
   "execution_count": 45,
   "metadata": {},
   "outputs": [],
   "source": [
    "datet = []\n",
    "\n",
    "for tweet in tweets:\n",
    "    #print(tweet.created_at)\n",
    "    datet.append(tweet.created_at) #created_at is root level attribute of twitter object. Telling the date and time when the tweet was created\n",
    "#print(datet)"
   ]
  },
  {
   "cell_type": "code",
   "execution_count": 46,
   "metadata": {},
   "outputs": [],
   "source": [
    "tmp = []\n",
    "\n",
    "tweets_for_csv = [tweet.full_text for tweet in tweets] #full_text giving the enitre tweet\n",
    "for j in tweets_for_csv:\n",
    "    tmp.append(j)\n",
    "#If a Tweet contains longer text, it will contain an additional object in the JSON response called extended_tweet, which will in turn contain a field called full_text.    "
   ]
  },
  {
   "cell_type": "code",
   "execution_count": 47,
   "metadata": {},
   "outputs": [
    {
     "data": {
      "text/plain": [
       "20"
      ]
     },
     "execution_count": 47,
     "metadata": {},
     "output_type": "execute_result"
    }
   ],
   "source": [
    "len(tmp)"
   ]
  },
  {
   "cell_type": "code",
   "execution_count": 49,
   "metadata": {},
   "outputs": [],
   "source": [
    "from country_list import countries"
   ]
  },
  {
   "cell_type": "code",
   "execution_count": 50,
   "metadata": {},
   "outputs": [],
   "source": [
    "def fetch_tweets(id,count = 20):\n",
    "    tmp = []\n",
    "    for tweet in tweepy.Cursor(api.user_timeline, id, tweet_mode = \"extended\").items(count):\n",
    "        tmp.append(tweet.full_text)\n",
    "    return tmp\n",
    "#Cursor is use for pagination/paging ,used for iterating though items like timelines,users list, direct messages"
   ]
  },
  {
   "cell_type": "code",
   "execution_count": 52,
   "metadata": {},
   "outputs": [],
   "source": [
    "def read_sent_CSV(filename,delimiter = \" \"):\n",
    "    df = pd.read_csv(filename)\n",
    "    full_data = df.values.tolist()\n",
    "    return full_data\n",
    "# values.tolist() is a function of pandas, it takes the value from several columns of the dataframe and converts them into a list."
   ]
  },
  {
   "cell_type": "code",
   "execution_count": 53,
   "metadata": {},
   "outputs": [],
   "source": [
    "#sentiment analysis\n",
    "def review_sent(tweets,neg_sents,pos_sents): #creating a function,passing csv files for negative and positive words\n",
    "    ref_countries = {}  \n",
    "    sent_review = {}\n",
    "    for country in countries: \n",
    "        sent_c  = 0\n",
    "        for tweet in tweets:  \n",
    "            if country['name'] in tweet:\n",
    "                for sent in neg_sents:\n",
    "                    if sent[0] in tweet: #[0] is used as without it sent was like ['2-Faced'...],with it is like 2-faced\n",
    "                        sent_c -=1\n",
    "                for sent in pos_sents:\n",
    "                    if sent[0] in tweet:\n",
    "                        sent_c +=1\n",
    "                if country['name'] not in sent_review:\n",
    "                    sent_review[country['name']] = 0\n",
    "                if country['name'] not in ref_countries:\n",
    "                    ref_countries[country['name']] = 0\n",
    "                ref_countries[country['name']]+= 1\n",
    "                sent_review[country['name']] = sent_c\n",
    "    return ref_countries,sent_review"
   ]
  },
  {
   "cell_type": "code",
   "execution_count": 54,
   "metadata": {},
   "outputs": [],
   "source": [
    "neg_sents = read_sent_CSV('negative_sent.csv')\n",
    "pos_sents = read_sent_CSV('positive_sent.csv')"
   ]
  },
  {
   "cell_type": "code",
   "execution_count": 56,
   "metadata": {},
   "outputs": [],
   "source": [
    "delegates = ['narendramodi' , 'realDonaldTrump', 'POTUS44']\n",
    "sent_analysis = {}\n",
    "for delegate in delegates:\n",
    "    tweets = fetch_tweets(delegate,200)\n",
    "    ref_countries, sent_review = review_sent(tweets,neg_sents,pos_sents) \n",
    "    sent_analysis[delegate] = sent_review "
   ]
  },
  {
   "cell_type": "code",
   "execution_count": 57,
   "metadata": {},
   "outputs": [
    {
     "name": "stdout",
     "output_type": "stream",
     "text": [
      "{'narendramodi': {'India': 77, 'United Kingdom': 3}, 'realDonaldTrump': {'Germany': -2, 'France': -7, 'Iran': -11, 'Jordan': -3, 'North Korea': -8, 'South Korea': -1, 'Poland': -1, 'Russia': -4, 'Sweden': 1, 'Singapore': -4, 'Syria': -3, 'United States': -10}, 'POTUS44': {'Canada': 2, 'Colombia': -1, 'Cuba': -2, 'India': 0, 'Liberia': 3, 'Mali': 0, 'Mexico': 1, 'Syria': -3, 'Laos': -2}}\n"
     ]
    }
   ],
   "source": [
    "delegate_countries = {'narendramodi':'India' ,'realDonaldTrump': 'United States' , 'POTUS44':'United States'}\n",
    "\n",
    "print(sent_analysis) "
   ]
  },
  {
   "cell_type": "code",
   "execution_count": 62,
   "metadata": {},
   "outputs": [
    {
     "data": {
      "image/png": "[encoded data removed]",
      "text/plain": [
       "<Figure size 432x288 with 1 Axes>"
      ]
     },
     "metadata": {
      "needs_background": "light"
     },
     "output_type": "display_data"
    },
    {
     "data": {
      "text/plain": [
       "<Figure size 2160x720 with 0 Axes>"
      ]
     },
     "metadata": {},
     "output_type": "display_data"
    },
    {
     "data": {
      "image/png": "[encoded data removed]",
      "text/plain": [
       "<Figure size 432x288 with 1 Axes>"
      ]
     },
     "metadata": {
      "needs_background": "light"
     },
     "output_type": "display_data"
    },
    {
     "data": {
      "text/plain": [
       "<Figure size 2160x720 with 0 Axes>"
      ]
     },
     "metadata": {},
     "output_type": "display_data"
    },
    {
     "data": {
      "image/png": "[encoded data removed]",
      "text/plain": [
       "<Figure size 432x288 with 1 Axes>"
      ]
     },
     "metadata": {
      "needs_background": "light"
     },
     "output_type": "display_data"
    },
    {
     "data": {
      "text/plain": [
       "<Figure size 2160x720 with 0 Axes>"
      ]
     },
     "metadata": {},
     "output_type": "display_data"
    }
   ],
   "source": [
    "for delegate in delegates:\n",
    "    plt.title(delegate)\n",
    "    plt.xlabel('countries')\n",
    "    plt.ylabel('sentiment')\n",
    "    for country in sent_analysis[delegate]:\n",
    "        if country != delegate_countries[delegate]:\n",
    "            plt.scatter(country,sent_analysis[delegate][country],s=300)\n",
    "    fig = plt.gcf() \n",
    "    plt.show()"
   ]
  },
  {
   "cell_type": "code",
   "execution_count": null,
   "metadata": {},
   "outputs": [],
   "source": []
  }
 ],
 "metadata": {
  "kernelspec": {
   "display_name": "Python 3",
   "language": "python",
   "name": "python3"
  },
  "language_info": {
   "codemirror_mode": {
    "name": "ipython",
    "version": 3
   },
   "file_extension": ".py",
   "mimetype": "text/x-python",
   "name": "python",
   "nbconvert_exporter": "python",
   "pygments_lexer": "ipython3",
   "version": "3.6.8"
  }
 },
 "nbformat": 4,
 "nbformat_minor": 2
}
